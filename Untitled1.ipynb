{
 "cells": [
  {
   "cell_type": "code",
   "execution_count": 1,
   "metadata": {},
   "outputs": [],
   "source": [
    "import pandas as pd\n",
    "import numpy as np\n",
    "import matplotlib.pyplot as plt\n",
    "from scipy.optimize import minimize\n",
    "import math\n",
    "import statistics as st\n",
    "import seaborn as sns"
   ]
  },
  {
   "cell_type": "code",
   "execution_count": 2,
   "metadata": {},
   "outputs": [
    {
     "data": {
      "text/html": [
       "<div>\n",
       "<style scoped>\n",
       "    .dataframe tbody tr th:only-of-type {\n",
       "        vertical-align: middle;\n",
       "    }\n",
       "\n",
       "    .dataframe tbody tr th {\n",
       "        vertical-align: top;\n",
       "    }\n",
       "\n",
       "    .dataframe thead th {\n",
       "        text-align: right;\n",
       "    }\n",
       "</style>\n",
       "<table border=\"1\" class=\"dataframe\">\n",
       "  <thead>\n",
       "    <tr style=\"text-align: right;\">\n",
       "      <th></th>\n",
       "      <th>status</th>\n",
       "      <th>Chan.Prof</th>\n",
       "      <th>number_of_Cases</th>\n",
       "      <th>time_dif</th>\n",
       "      <th>Service.Agreement.Id</th>\n",
       "    </tr>\n",
       "  </thead>\n",
       "  <tbody>\n",
       "    <tr>\n",
       "      <th>0</th>\n",
       "      <td>1</td>\n",
       "      <td>Direct</td>\n",
       "      <td>1</td>\n",
       "      <td>122.0</td>\n",
       "      <td>103552674212</td>\n",
       "    </tr>\n",
       "    <tr>\n",
       "      <th>1</th>\n",
       "      <td>1</td>\n",
       "      <td>Direct</td>\n",
       "      <td>1</td>\n",
       "      <td>153.0</td>\n",
       "      <td>103552674212</td>\n",
       "    </tr>\n",
       "    <tr>\n",
       "      <th>2</th>\n",
       "      <td>1</td>\n",
       "      <td>Direct</td>\n",
       "      <td>2</td>\n",
       "      <td>245.0</td>\n",
       "      <td>103552674212</td>\n",
       "    </tr>\n",
       "    <tr>\n",
       "      <th>3</th>\n",
       "      <td>1</td>\n",
       "      <td>Direct</td>\n",
       "      <td>1</td>\n",
       "      <td>92.0</td>\n",
       "      <td>103552674212</td>\n",
       "    </tr>\n",
       "    <tr>\n",
       "      <th>4</th>\n",
       "      <td>1</td>\n",
       "      <td>Direct</td>\n",
       "      <td>1</td>\n",
       "      <td>184.0</td>\n",
       "      <td>103552674212</td>\n",
       "    </tr>\n",
       "  </tbody>\n",
       "</table>\n",
       "</div>"
      ],
      "text/plain": [
       "   status Chan.Prof  number_of_Cases  time_dif  Service.Agreement.Id\n",
       "0       1    Direct                1     122.0          103552674212\n",
       "1       1    Direct                1     153.0          103552674212\n",
       "2       1    Direct                2     245.0          103552674212\n",
       "3       1    Direct                1      92.0          103552674212\n",
       "4       1    Direct                1     184.0          103552674212"
      ]
     },
     "execution_count": 2,
     "metadata": {},
     "output_type": "execute_result"
    }
   ],
   "source": [
    "data = pd.read_csv('merge_data.csv')\n",
    "data.head()"
   ]
  },
  {
   "cell_type": "code",
   "execution_count": 3,
   "metadata": {},
   "outputs": [
    {
     "data": {
      "image/png": "[encoded data removed]",
      "text/plain": [
       "<Figure size 432x288 with 1 Axes>"
      ]
     },
     "metadata": {
      "needs_background": "light"
     },
     "output_type": "display_data"
    }
   ],
   "source": [
    "plt.figure()\n",
    "filter_1 = (data['status'] == 1)\n",
    "filter_0 = (data['status'] == 0)\n",
    "plt.scatter(data['number_of_Cases'][filter_1], data['time_dif'][filter_1], c = 'red')\n",
    "plt.scatter(data['number_of_Cases'][filter_0], data['time_dif'][filter_0], c = 'green')\n",
    "plt.show()"
   ]
  },
  {
   "cell_type": "code",
   "execution_count": 4,
   "metadata": {},
   "outputs": [
    {
     "data": {
      "image/png": "[encoded data removed]",
      "text/plain": [
       "<Figure size 432x288 with 1 Axes>"
      ]
     },
     "metadata": {},
     "output_type": "display_data"
    }
   ],
   "source": [
    "plt.pie(data['status'].value_counts(), labels=('status=0', 'status=1'), autopct = '%.2f%%', explode = (0, 0.1))\n",
    "plt.show()"
   ]
  },
  {
   "cell_type": "code",
   "execution_count": 5,
   "metadata": {},
   "outputs": [
    {
     "data": {
      "text/plain": [
       "<matplotlib.axes._subplots.AxesSubplot at 0x29a69c677f0>"
      ]
     },
     "execution_count": 5,
     "metadata": {},
     "output_type": "execute_result"
    },
    {
     "data": {
      "image/png": "[encoded data removed]",
      "text/plain": [
       "<Figure size 432x288 with 1 Axes>"
      ]
     },
     "metadata": {
      "needs_background": "light"
     },
     "output_type": "display_data"
    }
   ],
   "source": [
    "status_count = data['status'].value_counts()\n",
    "status_count.plot(kind = 'bar')"
   ]
  },
  {
   "cell_type": "code",
   "execution_count": 6,
   "metadata": {},
   "outputs": [],
   "source": [
    "X = data.iloc[:, 1: 5]\n",
    "Y = data.iloc[:, 0]\n",
    "X_columns = X.columns"
   ]
  },
  {
   "cell_type": "code",
   "execution_count": 7,
   "metadata": {},
   "outputs": [
    {
     "name": "stderr",
     "output_type": "stream",
     "text": [
      "Using TensorFlow backend.\n"
     ]
    }
   ],
   "source": [
    "import imblearn\n",
    "from imblearn.under_sampling import RandomUnderSampler\n",
    "\n",
    "rus = RandomUnderSampler()\n",
    "X_rus, y_rus = rus.fit_sample(X, Y)"
   ]
  },
  {
   "cell_type": "code",
   "execution_count": 8,
   "metadata": {},
   "outputs": [
    {
     "data": {
      "text/html": [
       "<div>\n",
       "<style scoped>\n",
       "    .dataframe tbody tr th:only-of-type {\n",
       "        vertical-align: middle;\n",
       "    }\n",
       "\n",
       "    .dataframe tbody tr th {\n",
       "        vertical-align: top;\n",
       "    }\n",
       "\n",
       "    .dataframe thead th {\n",
       "        text-align: right;\n",
       "    }\n",
       "</style>\n",
       "<table border=\"1\" class=\"dataframe\">\n",
       "  <thead>\n",
       "    <tr style=\"text-align: right;\">\n",
       "      <th></th>\n",
       "      <th>Chan.Prof</th>\n",
       "      <th>number_of_Cases</th>\n",
       "      <th>time_dif</th>\n",
       "      <th>Service.Agreement.Id</th>\n",
       "      <th>target</th>\n",
       "    </tr>\n",
       "  </thead>\n",
       "  <tbody>\n",
       "    <tr>\n",
       "      <th>0</th>\n",
       "      <td>Direct</td>\n",
       "      <td>1</td>\n",
       "      <td>486</td>\n",
       "      <td>102274743524</td>\n",
       "      <td>0</td>\n",
       "    </tr>\n",
       "    <tr>\n",
       "      <th>1</th>\n",
       "      <td>Indirect</td>\n",
       "      <td>3</td>\n",
       "      <td>335</td>\n",
       "      <td>103679483181</td>\n",
       "      <td>0</td>\n",
       "    </tr>\n",
       "    <tr>\n",
       "      <th>2</th>\n",
       "      <td>Indirect</td>\n",
       "      <td>1</td>\n",
       "      <td>487</td>\n",
       "      <td>101810673463</td>\n",
       "      <td>0</td>\n",
       "    </tr>\n",
       "    <tr>\n",
       "      <th>3</th>\n",
       "      <td>Direct</td>\n",
       "      <td>1</td>\n",
       "      <td>151</td>\n",
       "      <td>103555698727</td>\n",
       "      <td>0</td>\n",
       "    </tr>\n",
       "    <tr>\n",
       "      <th>4</th>\n",
       "      <td>Direct</td>\n",
       "      <td>1</td>\n",
       "      <td>151</td>\n",
       "      <td>103623929516</td>\n",
       "      <td>0</td>\n",
       "    </tr>\n",
       "  </tbody>\n",
       "</table>\n",
       "</div>"
      ],
      "text/plain": [
       "  Chan.Prof number_of_Cases time_dif Service.Agreement.Id  target\n",
       "0    Direct               1      486         102274743524       0\n",
       "1  Indirect               3      335         103679483181       0\n",
       "2  Indirect               1      487         101810673463       0\n",
       "3    Direct               1      151         103555698727       0\n",
       "4    Direct               1      151         103623929516       0"
      ]
     },
     "execution_count": 8,
     "metadata": {},
     "output_type": "execute_result"
    }
   ],
   "source": [
    "x = pd.DataFrame(X_rus, columns=X_columns)\n",
    "x['target'] = pd.DataFrame(y_rus)\n",
    "x.head()"
   ]
  },
  {
   "cell_type": "code",
   "execution_count": 9,
   "metadata": {},
   "outputs": [
    {
     "data": {
      "text/plain": [
       "1    7934\n",
       "0    7934\n",
       "Name: target, dtype: int64"
      ]
     },
     "execution_count": 9,
     "metadata": {},
     "output_type": "execute_result"
    }
   ],
   "source": [
    "x['target'].value_counts()"
   ]
  },
  {
   "cell_type": "code",
   "execution_count": 10,
   "metadata": {},
   "outputs": [],
   "source": [
    "from sklearn.model_selection import train_test_split\n",
    "X_train, X_test, y_train, y_test = train_test_split(x.iloc[:, 1:4], x.iloc[:, 4], test_size=0.30, random_state=0)"
   ]
  },
  {
   "cell_type": "code",
   "execution_count": 11,
   "metadata": {},
   "outputs": [],
   "source": [
    "IDs = X_train['Service.Agreement.Id'].unique()"
   ]
  },
  {
   "cell_type": "code",
   "execution_count": 12,
   "metadata": {},
   "outputs": [],
   "source": [
    "data_groupby = X_train.groupby(by='Service.Agreement.Id')"
   ]
  },
  {
   "cell_type": "code",
   "execution_count": 13,
   "metadata": {},
   "outputs": [],
   "source": [
    "def func(coff):\n",
    "    b0, b1, r = coff\n",
    "    e = []\n",
    "    for j in IDs:\n",
    "        add = [] \n",
    "        y_temp = []\n",
    "        group = data_groupby.get_group(j)[:].copy()\n",
    "        group['target'] = y_train[:].copy()\n",
    "        ind = group.index\n",
    "        for i in ind:\n",
    "            add.append(math.exp(r*(-1)*group['time_dif'][i])*(math.log(1+group['number_of_Cases'][i])))\n",
    "            y_temp.append(group['target'][i])\n",
    "        add_sum = sum(add)\n",
    "        Z = (b0 + b1 * add_sum)\n",
    "        P = (1/(1+math.exp(Z)))\n",
    "        try:\n",
    "            y_mode = st.mode(y_temp)\n",
    "        except:\n",
    "            y_mode = 0\n",
    "        e.append((y_mode*math.log(1+P))+((1-y_mode)*math.log(1-P+1)))\n",
    "    return -sum(e)"
   ]
  },
  {
   "cell_type": "code",
   "execution_count": 48,
   "metadata": {},
   "outputs": [
    {
     "data": {
      "text/plain": [
       "      fun: -3038.8012600738216\n",
       " hess_inv: <3x3 LbfgsInvHessProduct with dtype=float64>\n",
       "      jac: array([-2.95585778e-03, -2.41016096e-03, -4.31614353e+00])\n",
       "  message: b'CONVERGENCE: REL_REDUCTION_OF_F_<=_FACTR*EPSMCH'\n",
       "     nfev: 120\n",
       "      nit: 28\n",
       "   status: 0\n",
       "  success: True\n",
       "        x: array([ 9.92548689e+00, -3.04812803e+00,  2.57947218e-04])"
      ]
     },
     "execution_count": 48,
     "metadata": {},
     "output_type": "execute_result"
    }
   ],
   "source": [
    "p0 = 0.001\n",
    "p1 = 0.001\n",
    "r1 = 0.0001\n",
    "bound = ((-10, None), (-10, None), (0, None))\n",
    "opt = minimize(func, (p0, p1, r1), method = \"L-BFGS-B\", bounds = bound)\n",
    "opt"
   ]
  },
  {
   "cell_type": "code",
   "execution_count": 14,
   "metadata": {},
   "outputs": [
    {
     "name": "stdout",
     "output_type": "stream",
     "text": [
      "4076.39724960577\n"
     ]
    }
   ],
   "source": [
    "e=[]\n",
    "b0 = 9.9230\n",
    "b1 = -3.0481\n",
    "r = 0.000258\n",
    "add = [] \n",
    "y_temp = []\n",
    "for j in IDs:\n",
    "    group = data_groupby.get_group(j)[:].copy()\n",
    "    group['target'] = y_train[:].copy()\n",
    "    ind = group.index\n",
    "    for i in ind:\n",
    "        add.append(math.exp(r*(-1)*group['time_dif'][i])*(math.log(1+group['number_of_Cases'][i])))\n",
    "        y_temp.append(group['target'][i])\n",
    "    add_sum = sum(add)\n",
    "    Z = (b0 + b1 * add_sum)\n",
    "    P = (1/(1+math.exp(Z)))\n",
    "    try:\n",
    "        y_mode = st.mode(y_temp)\n",
    "    except:\n",
    "        y_mode = 0\n",
    "    e.append((y_mode*math.log(1+P))+((1-y_mode)*math.log(1-P+1)))\n",
    "print(sum(e))"
   ]
  },
  {
   "cell_type": "code",
   "execution_count": 15,
   "metadata": {},
   "outputs": [],
   "source": [
    "def alt_b0(coff):\n",
    "    b1, r = coff\n",
    "    e = []\n",
    "    for j in IDs:\n",
    "        add = [] \n",
    "        y_temp = []\n",
    "        group = data_groupby.get_group(j)[:].copy()\n",
    "        group['target'] = y_train[:].copy()\n",
    "        ind = group.index\n",
    "        for i in ind:\n",
    "            add.append(math.exp(r*(-1)*group['time_dif'][i])*(math.log(1+group['number_of_Cases'][i])))\n",
    "            y_temp.append(group['target'][i])\n",
    "        add_sum = sum(add)\n",
    "        Z = (b1 * add_sum)\n",
    "        P = (1/(1+math.exp(Z)))\n",
    "        try:\n",
    "            y_mode = st.mode(y_temp)\n",
    "        except:\n",
    "            y_mode = 0\n",
    "        e.append((y_mode*math.log(1+P))+((1-y_mode)*math.log(1-P+1)))\n",
    "    return -sum(e)"
   ]
  },
  {
   "cell_type": "code",
   "execution_count": 17,
   "metadata": {},
   "outputs": [
    {
     "data": {
      "text/plain": [
       "      fun: -2412.0749693591647\n",
       " hess_inv: <2x2 LbfgsInvHessProduct with dtype=float64>\n",
       "      jac: array([-0.00277396, -0.0001819 ])\n",
       "  message: b'CONVERGENCE: REL_REDUCTION_OF_F_<=_FACTR*EPSMCH'\n",
       "     nfev: 60\n",
       "      nit: 13\n",
       "   status: 0\n",
       "  success: True\n",
       "        x: array([-0.14901786,  0.01357827])"
      ]
     },
     "execution_count": 17,
     "metadata": {},
     "output_type": "execute_result"
    }
   ],
   "source": [
    "p0 = 0.001\n",
    "p1 = 0.001\n",
    "r1 = 0.0001\n",
    "bound = ((-10, None))\n",
    "opt = minimize(alt_b0, (p1, r1), method = \"L-BFGS-B\", bounds = bound)\n",
    "opt"
   ]
  },
  {
   "cell_type": "code",
   "execution_count": 16,
   "metadata": {},
   "outputs": [
    {
     "name": "stdout",
     "output_type": "stream",
     "text": [
      "4070.497139760166\n"
     ]
    }
   ],
   "source": [
    "e=[]\n",
    "b1 = -0.14902\n",
    "r = 0.01358\n",
    "add = [] \n",
    "y_temp = []\n",
    "for j in IDs:\n",
    "    group = data_groupby.get_group(j)[:].copy()\n",
    "    group['target'] = y_train[:].copy()\n",
    "    ind = group.index\n",
    "    for i in ind:\n",
    "        add.append(math.exp(r*(-1)*group['time_dif'][i])*(math.log(1+group['number_of_Cases'][i])))\n",
    "        y_temp.append(group['target'][i])\n",
    "    add_sum = sum(add)\n",
    "    Z = (b1 * add_sum)\n",
    "    P = (1/(1+math.exp(Z)))\n",
    "    try:\n",
    "        y_mode = st.mode(y_temp)\n",
    "    except:\n",
    "        y_mode = 0\n",
    "    e.append((y_mode*math.log(1+P))+((1-y_mode)*math.log(1-P+1)))\n",
    "print(sum(e))"
   ]
  },
  {
   "cell_type": "code",
   "execution_count": 17,
   "metadata": {},
   "outputs": [],
   "source": [
    "def alt_b1(coff):\n",
    "    b0 = coff\n",
    "    e = []\n",
    "    for j in IDs:\n",
    "        #add = [] \n",
    "        y_temp = []\n",
    "        group = data_groupby.get_group(j)[:].copy()\n",
    "        group['target'] = y_train[:].copy()\n",
    "        ind = group.index\n",
    "        for i in ind:\n",
    "            #add.append(math.exp(r*(-1)*group['time_dif'][i])*(math.log(1+group['number_of_Cases'][i])))\n",
    "            y_temp.append(group['target'][i])\n",
    "        #add_sum = sum(add)\n",
    "        Z = (b0)\n",
    "        P = (1/(1+math.exp(Z)))\n",
    "        try:\n",
    "            y_mode = st.mode(y_temp)\n",
    "        except:\n",
    "            y_mode = 0\n",
    "        e.append((y_mode*math.log(1+P))+((1-y_mode)*math.log(1-P+1)))\n",
    "    return -sum(e)"
   ]
  },
  {
   "cell_type": "code",
   "execution_count": 29,
   "metadata": {},
   "outputs": [
    {
     "data": {
      "text/plain": [
       "      fun: -2773.2817118520384\n",
       " hess_inv: <1x1 LbfgsInvHessProduct with dtype=float64>\n",
       "      jac: array([0.00522959])\n",
       "  message: b'CONVERGENCE: REL_REDUCTION_OF_F_<=_FACTR*EPSMCH'\n",
       "     nfev: 64\n",
       "      nit: 15\n",
       "   status: 0\n",
       "  success: True\n",
       "        x: array([12.73541065])"
      ]
     },
     "execution_count": 29,
     "metadata": {},
     "output_type": "execute_result"
    }
   ],
   "source": [
    "p0 = 0.001\n",
    "p1 = 0.001\n",
    "r1 = 0.0001\n",
    "bound = [(-10, None)]\n",
    "opt = minimize(alt_b1, (p0), method = \"L-BFGS-B\", bounds = bound)\n",
    "opt"
   ]
  },
  {
   "cell_type": "code",
   "execution_count": 18,
   "metadata": {},
   "outputs": [
    {
     "name": "stdout",
     "output_type": "stream",
     "text": [
      "34.67459901168919\n"
     ]
    }
   ],
   "source": [
    "e=[]\n",
    "b0 = 12.7354\n",
    "add = [] \n",
    "y_temp = []\n",
    "for j in IDs:\n",
    "    group = data_groupby.get_group(j)[:].copy()\n",
    "    group['target'] = y_train[:].copy()\n",
    "    ind = group.index\n",
    "    for i in ind:\n",
    "        y_temp.append(group['target'][i])\n",
    "    add_sum = sum(add)\n",
    "    Z = (b0)\n",
    "    P = (1/(1+math.exp(Z)))\n",
    "    try:\n",
    "        y_mode = st.mode(y_temp)\n",
    "    except:\n",
    "        y_mode = 0\n",
    "    e.append((y_mode*math.log(1+P))+((1-y_mode)*math.log(1-P+1)))\n",
    "print(sum(e))"
   ]
  },
  {
   "cell_type": "code",
   "execution_count": 19,
   "metadata": {},
   "outputs": [],
   "source": [
    "def alt_r(coff):\n",
    "    b0, b1 = coff\n",
    "    e = []\n",
    "    for j in IDs:\n",
    "        add = [] \n",
    "        y_temp = []\n",
    "        group = data_groupby.get_group(j)[:].copy()\n",
    "        group['target'] = y_train[:].copy()\n",
    "        ind = group.index\n",
    "        for i in ind:\n",
    "            add.append(group['number_of_Cases'][i])\n",
    "            y_temp.append(group['target'][i])\n",
    "        add_sum = sum(add)\n",
    "        Z = (b0 + b1 * add_sum)\n",
    "        P = (1/(1+math.exp(Z)))\n",
    "        try:\n",
    "            y_mode = st.mode(y_temp)\n",
    "        except:\n",
    "            y_mode = 0\n",
    "        e.append((y_mode*math.log(1+P))+((1-y_mode)*math.log(1-P+1)))\n",
    "    return -sum(e)"
   ]
  },
  {
   "cell_type": "code",
   "execution_count": 44,
   "metadata": {},
   "outputs": [
    {
     "ename": "OverflowError",
     "evalue": "math range error",
     "output_type": "error",
     "traceback": [
      "\u001b[1;31m---------------------------------------------------------------------------\u001b[0m",
      "\u001b[1;31mOverflowError\u001b[0m                             Traceback (most recent call last)",
      "\u001b[1;32m<ipython-input-44-bfde83a29b0f>\u001b[0m in \u001b[0;36m<module>\u001b[1;34m\u001b[0m\n\u001b[0;32m      3\u001b[0m \u001b[0mr1\u001b[0m \u001b[1;33m=\u001b[0m \u001b[1;36m0.0001\u001b[0m\u001b[1;33m\u001b[0m\u001b[1;33m\u001b[0m\u001b[0m\n\u001b[0;32m      4\u001b[0m \u001b[0mbound\u001b[0m \u001b[1;33m=\u001b[0m \u001b[1;33m(\u001b[0m\u001b[1;33m(\u001b[0m\u001b[1;33m-\u001b[0m\u001b[1;36m10\u001b[0m\u001b[1;33m,\u001b[0m \u001b[1;36m100\u001b[0m\u001b[1;33m)\u001b[0m\u001b[1;33m,\u001b[0m \u001b[1;33m(\u001b[0m\u001b[1;33m-\u001b[0m\u001b[1;36m10\u001b[0m\u001b[1;33m,\u001b[0m \u001b[1;36m100\u001b[0m\u001b[1;33m)\u001b[0m\u001b[1;33m)\u001b[0m\u001b[1;33m\u001b[0m\u001b[1;33m\u001b[0m\u001b[0m\n\u001b[1;32m----> 5\u001b[1;33m \u001b[0mopt\u001b[0m \u001b[1;33m=\u001b[0m \u001b[0mminimize\u001b[0m\u001b[1;33m(\u001b[0m\u001b[0malt_r\u001b[0m\u001b[1;33m,\u001b[0m \u001b[1;33m(\u001b[0m\u001b[0mp0\u001b[0m\u001b[1;33m,\u001b[0m \u001b[0mp1\u001b[0m\u001b[1;33m)\u001b[0m\u001b[1;33m,\u001b[0m \u001b[0mmethod\u001b[0m \u001b[1;33m=\u001b[0m \u001b[1;34m\"L-BFGS-B\"\u001b[0m\u001b[1;33m,\u001b[0m \u001b[0mbounds\u001b[0m \u001b[1;33m=\u001b[0m \u001b[0mbound\u001b[0m\u001b[1;33m)\u001b[0m\u001b[1;33m\u001b[0m\u001b[1;33m\u001b[0m\u001b[0m\n\u001b[0m\u001b[0;32m      6\u001b[0m \u001b[0mopt\u001b[0m\u001b[1;33m\u001b[0m\u001b[1;33m\u001b[0m\u001b[0m\n",
      "\u001b[1;32m~\\Anaconda3\\lib\\site-packages\\scipy\\optimize\\_minimize.py\u001b[0m in \u001b[0;36mminimize\u001b[1;34m(fun, x0, args, method, jac, hess, hessp, bounds, constraints, tol, callback, options)\u001b[0m\n\u001b[0;32m    601\u001b[0m     \u001b[1;32melif\u001b[0m \u001b[0mmeth\u001b[0m \u001b[1;33m==\u001b[0m \u001b[1;34m'l-bfgs-b'\u001b[0m\u001b[1;33m:\u001b[0m\u001b[1;33m\u001b[0m\u001b[1;33m\u001b[0m\u001b[0m\n\u001b[0;32m    602\u001b[0m         return _minimize_lbfgsb(fun, x0, args, jac, bounds,\n\u001b[1;32m--> 603\u001b[1;33m                                 callback=callback, **options)\n\u001b[0m\u001b[0;32m    604\u001b[0m     \u001b[1;32melif\u001b[0m \u001b[0mmeth\u001b[0m \u001b[1;33m==\u001b[0m \u001b[1;34m'tnc'\u001b[0m\u001b[1;33m:\u001b[0m\u001b[1;33m\u001b[0m\u001b[1;33m\u001b[0m\u001b[0m\n\u001b[0;32m    605\u001b[0m         return _minimize_tnc(fun, x0, args, jac, bounds, callback=callback,\n",
      "\u001b[1;32m~\\Anaconda3\\lib\\site-packages\\scipy\\optimize\\lbfgsb.py\u001b[0m in \u001b[0;36m_minimize_lbfgsb\u001b[1;34m(fun, x0, args, jac, bounds, disp, maxcor, ftol, gtol, eps, maxfun, maxiter, iprint, callback, maxls, **unknown_options)\u001b[0m\n\u001b[0;32m    333\u001b[0m             \u001b[1;31m# until the completion of the current minimization iteration.\u001b[0m\u001b[1;33m\u001b[0m\u001b[1;33m\u001b[0m\u001b[1;33m\u001b[0m\u001b[0m\n\u001b[0;32m    334\u001b[0m             \u001b[1;31m# Overwrite f and g:\u001b[0m\u001b[1;33m\u001b[0m\u001b[1;33m\u001b[0m\u001b[1;33m\u001b[0m\u001b[0m\n\u001b[1;32m--> 335\u001b[1;33m             \u001b[0mf\u001b[0m\u001b[1;33m,\u001b[0m \u001b[0mg\u001b[0m \u001b[1;33m=\u001b[0m \u001b[0mfunc_and_grad\u001b[0m\u001b[1;33m(\u001b[0m\u001b[0mx\u001b[0m\u001b[1;33m)\u001b[0m\u001b[1;33m\u001b[0m\u001b[1;33m\u001b[0m\u001b[0m\n\u001b[0m\u001b[0;32m    336\u001b[0m         \u001b[1;32melif\u001b[0m \u001b[0mtask_str\u001b[0m\u001b[1;33m.\u001b[0m\u001b[0mstartswith\u001b[0m\u001b[1;33m(\u001b[0m\u001b[1;34mb'NEW_X'\u001b[0m\u001b[1;33m)\u001b[0m\u001b[1;33m:\u001b[0m\u001b[1;33m\u001b[0m\u001b[1;33m\u001b[0m\u001b[0m\n\u001b[0;32m    337\u001b[0m             \u001b[1;31m# new iteration\u001b[0m\u001b[1;33m\u001b[0m\u001b[1;33m\u001b[0m\u001b[1;33m\u001b[0m\u001b[0m\n",
      "\u001b[1;32m~\\Anaconda3\\lib\\site-packages\\scipy\\optimize\\lbfgsb.py\u001b[0m in \u001b[0;36mfunc_and_grad\u001b[1;34m(x)\u001b[0m\n\u001b[0;32m    278\u001b[0m     \u001b[1;32mif\u001b[0m \u001b[0mjac\u001b[0m \u001b[1;32mis\u001b[0m \u001b[1;32mNone\u001b[0m\u001b[1;33m:\u001b[0m\u001b[1;33m\u001b[0m\u001b[1;33m\u001b[0m\u001b[0m\n\u001b[0;32m    279\u001b[0m         \u001b[1;32mdef\u001b[0m \u001b[0mfunc_and_grad\u001b[0m\u001b[1;33m(\u001b[0m\u001b[0mx\u001b[0m\u001b[1;33m)\u001b[0m\u001b[1;33m:\u001b[0m\u001b[1;33m\u001b[0m\u001b[1;33m\u001b[0m\u001b[0m\n\u001b[1;32m--> 280\u001b[1;33m             \u001b[0mf\u001b[0m \u001b[1;33m=\u001b[0m \u001b[0mfun\u001b[0m\u001b[1;33m(\u001b[0m\u001b[0mx\u001b[0m\u001b[1;33m,\u001b[0m \u001b[1;33m*\u001b[0m\u001b[0margs\u001b[0m\u001b[1;33m)\u001b[0m\u001b[1;33m\u001b[0m\u001b[1;33m\u001b[0m\u001b[0m\n\u001b[0m\u001b[0;32m    281\u001b[0m             \u001b[0mg\u001b[0m \u001b[1;33m=\u001b[0m \u001b[0m_approx_fprime_helper\u001b[0m\u001b[1;33m(\u001b[0m\u001b[0mx\u001b[0m\u001b[1;33m,\u001b[0m \u001b[0mfun\u001b[0m\u001b[1;33m,\u001b[0m \u001b[0mepsilon\u001b[0m\u001b[1;33m,\u001b[0m \u001b[0margs\u001b[0m\u001b[1;33m=\u001b[0m\u001b[0margs\u001b[0m\u001b[1;33m,\u001b[0m \u001b[0mf0\u001b[0m\u001b[1;33m=\u001b[0m\u001b[0mf\u001b[0m\u001b[1;33m)\u001b[0m\u001b[1;33m\u001b[0m\u001b[1;33m\u001b[0m\u001b[0m\n\u001b[0;32m    282\u001b[0m             \u001b[1;32mreturn\u001b[0m \u001b[0mf\u001b[0m\u001b[1;33m,\u001b[0m \u001b[0mg\u001b[0m\u001b[1;33m\u001b[0m\u001b[1;33m\u001b[0m\u001b[0m\n",
      "\u001b[1;32m~\\Anaconda3\\lib\\site-packages\\scipy\\optimize\\optimize.py\u001b[0m in \u001b[0;36mfunction_wrapper\u001b[1;34m(*wrapper_args)\u001b[0m\n\u001b[0;32m    291\u001b[0m     \u001b[1;32mdef\u001b[0m \u001b[0mfunction_wrapper\u001b[0m\u001b[1;33m(\u001b[0m\u001b[1;33m*\u001b[0m\u001b[0mwrapper_args\u001b[0m\u001b[1;33m)\u001b[0m\u001b[1;33m:\u001b[0m\u001b[1;33m\u001b[0m\u001b[1;33m\u001b[0m\u001b[0m\n\u001b[0;32m    292\u001b[0m         \u001b[0mncalls\u001b[0m\u001b[1;33m[\u001b[0m\u001b[1;36m0\u001b[0m\u001b[1;33m]\u001b[0m \u001b[1;33m+=\u001b[0m \u001b[1;36m1\u001b[0m\u001b[1;33m\u001b[0m\u001b[1;33m\u001b[0m\u001b[0m\n\u001b[1;32m--> 293\u001b[1;33m         \u001b[1;32mreturn\u001b[0m \u001b[0mfunction\u001b[0m\u001b[1;33m(\u001b[0m\u001b[1;33m*\u001b[0m\u001b[1;33m(\u001b[0m\u001b[0mwrapper_args\u001b[0m \u001b[1;33m+\u001b[0m \u001b[0margs\u001b[0m\u001b[1;33m)\u001b[0m\u001b[1;33m)\u001b[0m\u001b[1;33m\u001b[0m\u001b[1;33m\u001b[0m\u001b[0m\n\u001b[0m\u001b[0;32m    294\u001b[0m \u001b[1;33m\u001b[0m\u001b[0m\n\u001b[0;32m    295\u001b[0m     \u001b[1;32mreturn\u001b[0m \u001b[0mncalls\u001b[0m\u001b[1;33m,\u001b[0m \u001b[0mfunction_wrapper\u001b[0m\u001b[1;33m\u001b[0m\u001b[1;33m\u001b[0m\u001b[0m\n",
      "\u001b[1;32m<ipython-input-42-052287640dba>\u001b[0m in \u001b[0;36malt_r\u001b[1;34m(coff)\u001b[0m\n\u001b[0;32m     13\u001b[0m         \u001b[0madd_sum\u001b[0m \u001b[1;33m=\u001b[0m \u001b[0msum\u001b[0m\u001b[1;33m(\u001b[0m\u001b[0madd\u001b[0m\u001b[1;33m)\u001b[0m\u001b[1;33m\u001b[0m\u001b[1;33m\u001b[0m\u001b[0m\n\u001b[0;32m     14\u001b[0m         \u001b[0mZ\u001b[0m \u001b[1;33m=\u001b[0m \u001b[1;33m(\u001b[0m\u001b[0mb0\u001b[0m \u001b[1;33m+\u001b[0m \u001b[0mb1\u001b[0m \u001b[1;33m*\u001b[0m \u001b[0madd_sum\u001b[0m\u001b[1;33m)\u001b[0m\u001b[1;33m\u001b[0m\u001b[1;33m\u001b[0m\u001b[0m\n\u001b[1;32m---> 15\u001b[1;33m         \u001b[0mP\u001b[0m \u001b[1;33m=\u001b[0m \u001b[1;33m(\u001b[0m\u001b[1;36m1\u001b[0m\u001b[1;33m/\u001b[0m\u001b[1;33m(\u001b[0m\u001b[1;36m1\u001b[0m\u001b[1;33m+\u001b[0m\u001b[0mmath\u001b[0m\u001b[1;33m.\u001b[0m\u001b[0mexp\u001b[0m\u001b[1;33m(\u001b[0m\u001b[0mZ\u001b[0m\u001b[1;33m)\u001b[0m\u001b[1;33m)\u001b[0m\u001b[1;33m)\u001b[0m\u001b[1;33m\u001b[0m\u001b[1;33m\u001b[0m\u001b[0m\n\u001b[0m\u001b[0;32m     16\u001b[0m         \u001b[1;32mtry\u001b[0m\u001b[1;33m:\u001b[0m\u001b[1;33m\u001b[0m\u001b[1;33m\u001b[0m\u001b[0m\n\u001b[0;32m     17\u001b[0m             \u001b[0my_mode\u001b[0m \u001b[1;33m=\u001b[0m \u001b[0mst\u001b[0m\u001b[1;33m.\u001b[0m\u001b[0mmode\u001b[0m\u001b[1;33m(\u001b[0m\u001b[0my_temp\u001b[0m\u001b[1;33m)\u001b[0m\u001b[1;33m\u001b[0m\u001b[1;33m\u001b[0m\u001b[0m\n",
      "\u001b[1;31mOverflowError\u001b[0m: math range error"
     ]
    }
   ],
   "source": [
    "p0 = 0.001\n",
    "p1 = 0.001\n",
    "r1 = 0.0001\n",
    "bound = ((-10, 100), (-10, 100))\n",
    "opt = minimize(alt_r, (p0, p1), method = \"L-BFGS-B\", bounds = bound)\n",
    "opt"
   ]
  },
  {
   "cell_type": "code",
   "execution_count": 20,
   "metadata": {},
   "outputs": [
    {
     "name": "stdout",
     "output_type": "stream",
     "text": [
      "4076.350975258436\n"
     ]
    }
   ],
   "source": [
    "e=[]\n",
    "b0 = 9.8230\n",
    "b1 = -3.7592\n",
    "add = [] \n",
    "y_temp = []\n",
    "for j in IDs:\n",
    "    group = data_groupby.get_group(j)[:].copy()\n",
    "    group['target'] = y_train[:].copy()\n",
    "    ind = group.index\n",
    "    for i in ind:\n",
    "        add.append(group['number_of_Cases'][i])\n",
    "        y_temp.append(group['target'][i])\n",
    "    add_sum = sum(add)\n",
    "    Z = (b0 + b1 * add_sum)\n",
    "    P = (1/(1+math.exp(Z)))\n",
    "    try:\n",
    "        y_mode = st.mode(y_temp)\n",
    "    except:\n",
    "        y_mode = 0\n",
    "    e.append((y_mode*math.log(1+P))+((1-y_mode)*math.log(1-P+1)))\n",
    "print(sum(e))"
   ]
  },
  {
   "cell_type": "code",
   "execution_count": 21,
   "metadata": {},
   "outputs": [],
   "source": [
    "LL_value_full =  4076.3972\n",
    "log_li_b0 = 4070.497\n",
    "log_li_b1 = 34.674\n",
    "log_li_r1 = 4072.253\n",
    "LRT_b0 = 2*(LL_value_full - log_li_b0)\n",
    "LRT_b1 = 2*(LL_value_full - log_li_b1)\n",
    "LRT_r1 = 2*(LL_value_full - log_li_r1)"
   ]
  },
  {
   "cell_type": "code",
   "execution_count": 22,
   "metadata": {},
   "outputs": [
    {
     "name": "stdout",
     "output_type": "stream",
     "text": [
      "11.800400000000081 8083.4464 8.288399999999456\n"
     ]
    }
   ],
   "source": [
    "print(LRT_b0, LRT_b1, LRT_r1)"
   ]
  },
  {
   "cell_type": "markdown",
   "metadata": {},
   "source": [
    "### Test the coefficients"
   ]
  },
  {
   "cell_type": "code",
   "execution_count": 15,
   "metadata": {},
   "outputs": [],
   "source": [
    "from sklearn.metrics import accuracy_score"
   ]
  },
  {
   "cell_type": "code",
   "execution_count": 16,
   "metadata": {},
   "outputs": [
    {
     "name": "stdout",
     "output_type": "stream",
     "text": [
      "67.80080420661923\n"
     ]
    }
   ],
   "source": [
    "r = 0.00095794\n",
    "b0 = 10.9254\n",
    "b1 = -4.94812\n",
    "IDs = X_test['Service.Agreement.Id'].unique()\n",
    "data_groupby = X_test.groupby(by='Service.Agreement.Id')\n",
    "Y = []\n",
    "Y_test = []\n",
    "time_difference = []\n",
    "prob = []\n",
    "for j in IDs:\n",
    "    add = [] \n",
    "    y_temp = []\n",
    "    group = data_groupby.get_group(j)[:].copy()\n",
    "    ind = group.index\n",
    "    for i in ind:\n",
    "        add.append(math.exp(r*(-1)*group['time_dif'][i])*(math.log(1+group['number_of_Cases'][i])))\n",
    "        y_temp.append(y_test[i])\n",
    "    try:\n",
    "        y_mode = st.mode(y_temp)\n",
    "    except:\n",
    "        y_mode = 0\n",
    "    add_sum = sum(add)\n",
    "    Z = (b0 + b1 * add_sum)\n",
    "    P = (1/(1+math.exp(Z)))\n",
    "    Y.append(1 if P>0.5 else 0)\n",
    "    Y_test.append(y_mode)\n",
    "    time_difference.append(add_sum)\n",
    "    prob.append(P)\n",
    "print(accuracy_score(Y_test,Y, normalize = True) * 100)"
   ]
  },
  {
   "cell_type": "code",
   "execution_count": 17,
   "metadata": {},
   "outputs": [
    {
     "data": {
      "image/png": "[encoded data removed]",
      "text/plain": [
       "<Figure size 432x288 with 1 Axes>"
      ]
     },
     "metadata": {
      "needs_background": "light"
     },
     "output_type": "display_data"
    }
   ],
   "source": [
    "plt.figure()\n",
    "plt.scatter(time_difference, prob, color='blue')\n",
    "plt.scatter(time_difference, Y_test)\n",
    "plt.show()"
   ]
  },
  {
   "cell_type": "code",
   "execution_count": 18,
   "metadata": {},
   "outputs": [
    {
     "name": "stdout",
     "output_type": "stream",
     "text": [
      "72.29037136615695\n"
     ]
    }
   ],
   "source": [
    "IDs = X_train['Service.Agreement.Id'].unique()\n",
    "data_groupby = X_train.groupby(by='Service.Agreement.Id')\n",
    "Y = []\n",
    "Y_train = []\n",
    "time_difference = []\n",
    "prob = []\n",
    "for j in IDs:\n",
    "    add = [] \n",
    "    y_temp = []\n",
    "    group = data_groupby.get_group(j)[:].copy()\n",
    "    ind = group.index\n",
    "    for i in ind:\n",
    "        add.append(math.exp(r*(-1)*group['time_dif'][i])*(math.log(1+group['number_of_Cases'][i])))\n",
    "        y_temp.append(y_train[i])\n",
    "    try:\n",
    "        y_mode = st.mode(y_temp)\n",
    "    except:\n",
    "        y_mode = 0\n",
    "    add_sum = sum(add)\n",
    "    Z = (b0 + b1 * add_sum)\n",
    "    P = (1/(1+math.exp(Z)))\n",
    "    Y.append(1 if P>0.5 else 0)\n",
    "    Y_train.append(y_mode)\n",
    "    time_difference.append(add_sum)\n",
    "    prob.append(P)\n",
    "print(accuracy_score(Y_train,Y, normalize = True) * 100)"
   ]
  },
  {
   "cell_type": "code",
   "execution_count": 22,
   "metadata": {},
   "outputs": [
    {
     "data": {
      "text/plain": [
       "False"
      ]
     },
     "execution_count": 22,
     "metadata": {},
     "output_type": "execute_result"
    }
   ],
   "source": [
    "filter = (Y == 1)\n",
    "filter"
   ]
  },
  {
   "cell_type": "code",
   "execution_count": 20,
   "metadata": {},
   "outputs": [
    {
     "data": {
      "image/png": "[encoded data removed]",
      "text/plain": [
       "<Figure size 432x288 with 1 Axes>"
      ]
     },
     "metadata": {
      "needs_background": "light"
     },
     "output_type": "display_data"
    }
   ],
   "source": [
    "plt.figure()\n",
    "plt.scatter(time_difference, prob, color='blue')\n",
    "plt.scatter(time_difference, Y_train)\n",
    "plt.show()"
   ]
  },
  {
   "cell_type": "code",
   "execution_count": null,
   "metadata": {},
   "outputs": [],
   "source": [
    "plt.figure()\n",
    "plt.scatter(time_difference, prob, color='red')\n",
    "plt.show()"
   ]
  },
  {
   "cell_type": "code",
   "execution_count": 30,
   "metadata": {},
   "outputs": [
    {
     "data": {
      "text/plain": [
       "5951"
      ]
     },
     "execution_count": 30,
     "metadata": {},
     "output_type": "execute_result"
    }
   ],
   "source": [
    "len(time_difference)"
   ]
  },
  {
   "cell_type": "code",
   "execution_count": 34,
   "metadata": {},
   "outputs": [
    {
     "data": {
      "text/html": [
       "<div>\n",
       "<style scoped>\n",
       "    .dataframe tbody tr th:only-of-type {\n",
       "        vertical-align: middle;\n",
       "    }\n",
       "\n",
       "    .dataframe tbody tr th {\n",
       "        vertical-align: top;\n",
       "    }\n",
       "\n",
       "    .dataframe thead th {\n",
       "        text-align: right;\n",
       "    }\n",
       "</style>\n",
       "<table border=\"1\" class=\"dataframe\">\n",
       "  <thead>\n",
       "    <tr style=\"text-align: right;\">\n",
       "      <th></th>\n",
       "      <th>Y_train</th>\n",
       "      <th>Y_train_pre</th>\n",
       "      <th>time_diff</th>\n",
       "    </tr>\n",
       "  </thead>\n",
       "  <tbody>\n",
       "    <tr>\n",
       "      <th>0</th>\n",
       "      <td>0</td>\n",
       "      <td>0</td>\n",
       "      <td>1.836293</td>\n",
       "    </tr>\n",
       "    <tr>\n",
       "      <th>1</th>\n",
       "      <td>1</td>\n",
       "      <td>0</td>\n",
       "      <td>0.474328</td>\n",
       "    </tr>\n",
       "    <tr>\n",
       "      <th>2</th>\n",
       "      <td>1</td>\n",
       "      <td>1</td>\n",
       "      <td>5.353682</td>\n",
       "    </tr>\n",
       "    <tr>\n",
       "      <th>3</th>\n",
       "      <td>0</td>\n",
       "      <td>0</td>\n",
       "      <td>0.650545</td>\n",
       "    </tr>\n",
       "    <tr>\n",
       "      <th>4</th>\n",
       "      <td>1</td>\n",
       "      <td>0</td>\n",
       "      <td>0.537232</td>\n",
       "    </tr>\n",
       "  </tbody>\n",
       "</table>\n",
       "</div>"
      ],
      "text/plain": [
       "   Y_train  Y_train_pre  time_diff\n",
       "0        0            0   1.836293\n",
       "1        1            0   0.474328\n",
       "2        1            1   5.353682\n",
       "3        0            0   0.650545\n",
       "4        1            0   0.537232"
      ]
     },
     "execution_count": 34,
     "metadata": {},
     "output_type": "execute_result"
    }
   ],
   "source": [
    "plot = pd.DataFrame({'Y_train': Y_train, 'Y_train_pre': Y, 'time_diff':time_difference})\n",
    "plot.head()"
   ]
  },
  {
   "cell_type": "code",
   "execution_count": 40,
   "metadata": {},
   "outputs": [
    {
     "data": {
      "image/png": "[encoded data removed]",
      "text/plain": [
       "<Figure size 432x288 with 1 Axes>"
      ]
     },
     "metadata": {
      "needs_background": "light"
     },
     "output_type": "display_data"
    }
   ],
   "source": [
    "sns.violinplot(x='Y_train', y='time_diff', data=plot, hue='Y_train_pre') \n",
    "plt.legend()\n",
    "plt.show()"
   ]
  },
  {
   "cell_type": "code",
   "execution_count": 41,
   "metadata": {},
   "outputs": [
    {
     "data": {
      "text/plain": [
       "0    4004\n",
       "1    1947\n",
       "Name: Y_train, dtype: int64"
      ]
     },
     "execution_count": 41,
     "metadata": {},
     "output_type": "execute_result"
    }
   ],
   "source": [
    "plot['Y_train'].value_counts()"
   ]
  },
  {
   "cell_type": "code",
   "execution_count": 42,
   "metadata": {},
   "outputs": [
    {
     "data": {
      "text/plain": [
       "0    4989\n",
       "1     962\n",
       "Name: Y_train_pre, dtype: int64"
      ]
     },
     "execution_count": 42,
     "metadata": {},
     "output_type": "execute_result"
    }
   ],
   "source": [
    "plot['Y_train_pre'].value_counts()"
   ]
  },
  {
   "cell_type": "code",
   "execution_count": null,
   "metadata": {},
   "outputs": [],
   "source": []
  }
 ],
 "metadata": {
  "kernelspec": {
   "display_name": "Python 3",
   "language": "python",
   "name": "python3"
  },
  "language_info": {
   "codemirror_mode": {
    "name": "ipython",
    "version": 3
   },
   "file_extension": ".py",
   "mimetype": "text/x-python",
   "name": "python",
   "nbconvert_exporter": "python",
   "pygments_lexer": "ipython3",
   "version": "3.7.1"
  }
 },
 "nbformat": 4,
 "nbformat_minor": 2
}
